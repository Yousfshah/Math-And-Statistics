{
 "cells": [
  {
   "cell_type": "markdown",
   "metadata": {},
   "source": [
    "#### **Written by: Yousuf Shah**\n",
    "#### **Subject: Anova Test**\n",
    "#### **Date: 07.10.2024**\n",
    "#### **Email: contact.ys09@gmail.com**"
   ]
  },
  {
   "cell_type": "markdown",
   "metadata": {},
   "source": [
    "# Anova Test\n",
    "#### Anova Means : Analysis Of Variance"
   ]
  },
  {
   "cell_type": "markdown",
   "metadata": {},
   "source": [
    "---"
   ]
  },
  {
   "cell_type": "markdown",
   "metadata": {},
   "source": [
    "# 1. One-Way Anova"
   ]
  },
  {
   "cell_type": "markdown",
   "metadata": {},
   "source": [
    "### H0 : Means Of a, b and c Are Equal\n",
    "### H1 : Means Of a, b and c Are Not Equal"
   ]
  },
  {
   "cell_type": "code",
   "execution_count": 1,
   "metadata": {},
   "outputs": [
    {
     "name": "stdout",
     "output_type": "stream",
     "text": [
      "statistic : 1.5555555555555556\n",
      "\n",
      "P_Value : 0.2507893458792392\n",
      "\n",
      " p-value: 0.2507893458792392, Means Are Equal (Fail To Reject H0)\n"
     ]
    }
   ],
   "source": [
    "import scipy.stats as stats\n",
    "\n",
    "# Sample Data\n",
    "a= [1, 2, 3, 4, 5]\n",
    "b= [2, 4, 6, 8, 10]\n",
    "c= [1, 3, 5, 7, 9]\n",
    "\n",
    "# Perform one-way anova test\n",
    "stat, p_val= stats.f_oneway(a, b, c)\n",
    "\n",
    "print(f'statistic : {stat}')\n",
    "print()\n",
    "print(f'P_Value : {p_val}')\n",
    "print()\n",
    "\n",
    "# You Can print the result using if else condition\n",
    "if p_val > 0.05:\n",
    "    print(f' p-value: {p_val}, Means Are Equal (Fail To Reject H0)')\n",
    "else:\n",
    "    print(f' p-value: {p_val}, Means Are Not Equal (Reject H0)')"
   ]
  },
  {
   "cell_type": "code",
   "execution_count": null,
   "metadata": {},
   "outputs": [],
   "source": []
  }
 ],
 "metadata": {
  "kernelspec": {
   "display_name": "Python 3",
   "language": "python",
   "name": "python3"
  },
  "language_info": {
   "codemirror_mode": {
    "name": "ipython",
    "version": 3
   },
   "file_extension": ".py",
   "mimetype": "text/x-python",
   "name": "python",
   "nbconvert_exporter": "python",
   "pygments_lexer": "ipython3",
   "version": "3.12.1"
  }
 },
 "nbformat": 4,
 "nbformat_minor": 2
}
