{
 "cells": [
  {
   "cell_type": "markdown",
   "metadata": {},
   "source": [
    "#### **Written by: Yousuf Shah**\n",
    "#### **Subject: T-Test**\n",
    "#### **Date: 07.015.2024**\n",
    "#### **Email: contact.ys09@gmail.com**"
   ]
  },
  {
   "cell_type": "markdown",
   "metadata": {},
   "source": [
    "# T-Test\n",
    "# For T-Test First We Will Check Normal Distribution And Homogeniety Test\n",
    "#### Homogeniety Test : Refers to Variances Are Equal "
   ]
  },
  {
   "cell_type": "markdown",
   "metadata": {},
   "source": [
    "---"
   ]
  },
  {
   "cell_type": "code",
   "execution_count": 1,
   "metadata": {},
   "outputs": [],
   "source": [
    "# import Libraries\n",
    "import pandas as pd\n",
    "import numpy as np\n",
    "import seaborn as sns\n",
    "import matplotlib.pyplot as plt\n",
    "from scipy import stats"
   ]
  },
  {
   "cell_type": "code",
   "execution_count": 2,
   "metadata": {},
   "outputs": [
    {
     "data": {
      "text/html": [
       "<div>\n",
       "<style scoped>\n",
       "    .dataframe tbody tr th:only-of-type {\n",
       "        vertical-align: middle;\n",
       "    }\n",
       "\n",
       "    .dataframe tbody tr th {\n",
       "        vertical-align: top;\n",
       "    }\n",
       "\n",
       "    .dataframe thead th {\n",
       "        text-align: right;\n",
       "    }\n",
       "</style>\n",
       "<table border=\"1\" class=\"dataframe\">\n",
       "  <thead>\n",
       "    <tr style=\"text-align: right;\">\n",
       "      <th></th>\n",
       "      <th>survived</th>\n",
       "      <th>pclass</th>\n",
       "      <th>sex</th>\n",
       "      <th>age</th>\n",
       "      <th>sibsp</th>\n",
       "      <th>parch</th>\n",
       "      <th>fare</th>\n",
       "      <th>embarked</th>\n",
       "      <th>class</th>\n",
       "      <th>who</th>\n",
       "      <th>adult_male</th>\n",
       "      <th>deck</th>\n",
       "      <th>embark_town</th>\n",
       "      <th>alive</th>\n",
       "      <th>alone</th>\n",
       "    </tr>\n",
       "  </thead>\n",
       "  <tbody>\n",
       "    <tr>\n",
       "      <th>0</th>\n",
       "      <td>0</td>\n",
       "      <td>3</td>\n",
       "      <td>male</td>\n",
       "      <td>22.0</td>\n",
       "      <td>1</td>\n",
       "      <td>0</td>\n",
       "      <td>7.2500</td>\n",
       "      <td>S</td>\n",
       "      <td>Third</td>\n",
       "      <td>man</td>\n",
       "      <td>True</td>\n",
       "      <td>NaN</td>\n",
       "      <td>Southampton</td>\n",
       "      <td>no</td>\n",
       "      <td>False</td>\n",
       "    </tr>\n",
       "    <tr>\n",
       "      <th>1</th>\n",
       "      <td>1</td>\n",
       "      <td>1</td>\n",
       "      <td>female</td>\n",
       "      <td>38.0</td>\n",
       "      <td>1</td>\n",
       "      <td>0</td>\n",
       "      <td>71.2833</td>\n",
       "      <td>C</td>\n",
       "      <td>First</td>\n",
       "      <td>woman</td>\n",
       "      <td>False</td>\n",
       "      <td>C</td>\n",
       "      <td>Cherbourg</td>\n",
       "      <td>yes</td>\n",
       "      <td>False</td>\n",
       "    </tr>\n",
       "    <tr>\n",
       "      <th>2</th>\n",
       "      <td>1</td>\n",
       "      <td>3</td>\n",
       "      <td>female</td>\n",
       "      <td>26.0</td>\n",
       "      <td>0</td>\n",
       "      <td>0</td>\n",
       "      <td>7.9250</td>\n",
       "      <td>S</td>\n",
       "      <td>Third</td>\n",
       "      <td>woman</td>\n",
       "      <td>False</td>\n",
       "      <td>NaN</td>\n",
       "      <td>Southampton</td>\n",
       "      <td>yes</td>\n",
       "      <td>True</td>\n",
       "    </tr>\n",
       "    <tr>\n",
       "      <th>3</th>\n",
       "      <td>1</td>\n",
       "      <td>1</td>\n",
       "      <td>female</td>\n",
       "      <td>35.0</td>\n",
       "      <td>1</td>\n",
       "      <td>0</td>\n",
       "      <td>53.1000</td>\n",
       "      <td>S</td>\n",
       "      <td>First</td>\n",
       "      <td>woman</td>\n",
       "      <td>False</td>\n",
       "      <td>C</td>\n",
       "      <td>Southampton</td>\n",
       "      <td>yes</td>\n",
       "      <td>False</td>\n",
       "    </tr>\n",
       "    <tr>\n",
       "      <th>4</th>\n",
       "      <td>0</td>\n",
       "      <td>3</td>\n",
       "      <td>male</td>\n",
       "      <td>35.0</td>\n",
       "      <td>0</td>\n",
       "      <td>0</td>\n",
       "      <td>8.0500</td>\n",
       "      <td>S</td>\n",
       "      <td>Third</td>\n",
       "      <td>man</td>\n",
       "      <td>True</td>\n",
       "      <td>NaN</td>\n",
       "      <td>Southampton</td>\n",
       "      <td>no</td>\n",
       "      <td>True</td>\n",
       "    </tr>\n",
       "  </tbody>\n",
       "</table>\n",
       "</div>"
      ],
      "text/plain": [
       "   survived  pclass     sex   age  sibsp  parch     fare embarked  class  \\\n",
       "0         0       3    male  22.0      1      0   7.2500        S  Third   \n",
       "1         1       1  female  38.0      1      0  71.2833        C  First   \n",
       "2         1       3  female  26.0      0      0   7.9250        S  Third   \n",
       "3         1       1  female  35.0      1      0  53.1000        S  First   \n",
       "4         0       3    male  35.0      0      0   8.0500        S  Third   \n",
       "\n",
       "     who  adult_male deck  embark_town alive  alone  \n",
       "0    man        True  NaN  Southampton    no  False  \n",
       "1  woman       False    C    Cherbourg   yes  False  \n",
       "2  woman       False  NaN  Southampton   yes   True  \n",
       "3  woman       False    C  Southampton   yes  False  \n",
       "4    man        True  NaN  Southampton    no   True  "
      ]
     },
     "execution_count": 2,
     "metadata": {},
     "output_type": "execute_result"
    }
   ],
   "source": [
    "# Load The Dataset\n",
    "df=sns.load_dataset('titanic')\n",
    "df.head()"
   ]
  },
  {
   "cell_type": "markdown",
   "metadata": {},
   "source": [
    "# Shapiro Wilk Test on Normla or Gaussian Distribution To Check Data Is Normal Distributed\n",
    "# H0 : Data Is Normally Distributed \n",
    "# H1 : Data Is Not Normally Distributed "
   ]
  },
  {
   "cell_type": "code",
   "execution_count": 3,
   "metadata": {},
   "outputs": [
    {
     "name": "stdout",
     "output_type": "stream",
     "text": [
      "statistic : 0.5218913010396559\n",
      "\n",
      "p-value : 1.0840444395829658e-43\n",
      "-----------------------------------\n",
      " p-value: 1.0840444395829658e-43, Sample Does Not Look Normally Distibuted (Reject H0)\n"
     ]
    }
   ],
   "source": [
    "# Shapiro Wilk Test\n",
    "Statistic, P_Value=stats.shapiro(df['fare'])\n",
    "print(f'statistic : {Statistic}')\n",
    "print()\n",
    "print(f'p-value : {P_Value}')\n",
    "print('-----------------------------------')\n",
    "\n",
    "# You Can print the result using if else condition\n",
    "if P_Value > 0.05:\n",
    "    print(f' p-value: {P_Value}, Sample Look Normally Distibuted (Fail To Reject H0)')\n",
    "else:\n",
    "    print(f' p-value: {P_Value}, Sample Does Not Look Normally Distibuted (Reject H0)')"
   ]
  },
  {
   "cell_type": "markdown",
   "metadata": {},
   "source": [
    "## You Can Check using Graphical Mehthod. Data Is Not Normally Distributed"
   ]
  },
  {
   "cell_type": "code",
   "execution_count": 4,
   "metadata": {},
   "outputs": [
    {
     "data": {
      "text/plain": [
       "<Axes: xlabel='fare', ylabel='Count'>"
      ]
     },
     "execution_count": 4,
     "metadata": {},
     "output_type": "execute_result"
    },
    {
     "data": {
      "image/png": "[encoded data removed]",
      "text/plain": [
       "<Figure size 640x480 with 1 Axes>"
      ]
     },
     "metadata": {},
     "output_type": "display_data"
    }
   ],
   "source": [
    "# Graphical Method\n",
    "sns.histplot(data=df, x='fare', kde=True)"
   ]
  },
  {
   "cell_type": "markdown",
   "metadata": {},
   "source": [
    "---"
   ]
  },
  {
   "cell_type": "markdown",
   "metadata": {},
   "source": [
    "# I Will Apply Homogeniety Test On Dummy Data"
   ]
  },
  {
   "cell_type": "markdown",
   "metadata": {},
   "source": [
    "# Test For Homogeniety\n",
    "### 1. Levene's Test\n",
    "### H0 : group1 and group2 Variances Are Equal\n",
    "### H1 : group1 and group2 Variances Are Not Equal"
   ]
  },
  {
   "cell_type": "code",
   "execution_count": 5,
   "metadata": {},
   "outputs": [
    {
     "name": "stdout",
     "output_type": "stream",
     "text": [
      "statistic : 0.0\n",
      "\n",
      "P_Value : 1.0\n",
      "\n",
      " p-value: 1.0, Variances Are Equal (Fail To Reject H0)\n"
     ]
    }
   ],
   "source": [
    "import scipy.stats as stats\n",
    "\n",
    "# Sample Data\n",
    "group1= [2, 4, 6, 8, 10]\n",
    "group2= [1, 3, 5, 7, 9]\n",
    "\n",
    "# Perform Independent Two-Sample T-Test\n",
    "state, p_value=stats.levene(group1, group2)\n",
    "\n",
    "print(f'statistic : {state}')\n",
    "print()\n",
    "print(f'P_Value : {p_value}')\n",
    "print()\n",
    "\n",
    "# You Can print the result using if else condition\n",
    "if p_value > 0.05:\n",
    "    print(f' p-value: {p_value}, Variances Are Equal (Fail To Reject H0)')\n",
    "else:\n",
    "    print(f' p-value: {p_value}, Variances Are Not Equal (Reject H0)')\n"
   ]
  },
  {
   "cell_type": "markdown",
   "metadata": {},
   "source": [
    "# 2. Bartlett's Test\n",
    "### H0 : group1 and group2 Variances Are Equal\n",
    "### H1 : group1 and group2 Variances Are Not Equal"
   ]
  },
  {
   "cell_type": "code",
   "execution_count": 6,
   "metadata": {},
   "outputs": [
    {
     "name": "stdout",
     "output_type": "stream",
     "text": [
      "statistic : 0.0\n",
      "\n",
      "P_Value : 1.0\n",
      "\n",
      " p-value: 1.0, Variances Are Equal (Fail To Reject H0)\n"
     ]
    }
   ],
   "source": [
    "import scipy.stats as stats\n",
    "\n",
    "# Sample Data\n",
    "group1= [2, 4, 6, 8, 10]\n",
    "group2= [1, 3, 5, 7, 9]\n",
    "\n",
    "# Perform Independent Two-Sample T-Test\n",
    "state, p_value=stats.bartlett(group1, group2)\n",
    "\n",
    "print(f'statistic : {state}')\n",
    "print()\n",
    "print(f'P_Value : {p_value}')\n",
    "print()\n",
    "\n",
    "# You Can print the result using if else condition\n",
    "if p_value > 0.05:\n",
    "    print(f' p-value: {p_value}, Variances Are Equal (Fail To Reject H0)')\n",
    "else:\n",
    "    print(f' p-value: {p_value}, Variances Are Not Equal (Reject H0)')\n"
   ]
  },
  {
   "cell_type": "markdown",
   "metadata": {},
   "source": [
    "---"
   ]
  },
  {
   "cell_type": "markdown",
   "metadata": {},
   "source": [
    "### I Will Apply T-Test On Dummy Data"
   ]
  },
  {
   "cell_type": "markdown",
   "metadata": {},
   "source": [
    "# 1. One Sample T-Test"
   ]
  },
  {
   "cell_type": "markdown",
   "metadata": {},
   "source": [
    "#### H0 : There Is No Difference Between Population Mean And Sample Mean\n",
    "#### H1 : There Is Difference Between Population Mean And Sample Mean\n"
   ]
  },
  {
   "cell_type": "code",
   "execution_count": 7,
   "metadata": {},
   "outputs": [
    {
     "name": "stdout",
     "output_type": "stream",
     "text": [
      "statistic : 0.0\n",
      "\n",
      "P_Value : 1.0\n",
      "\n",
      " p-value: 1.0, Sample Mean = Population Mean (Fail To Reject H0)\n"
     ]
    }
   ],
   "source": [
    "import scipy.stats as stats\n",
    "\n",
    "# Sample Data\n",
    "sample_data= [1, 2, 3, 4, 5]\n",
    "\n",
    "# Known Population Mean\n",
    "suppose_population_mean= 3\n",
    "\n",
    "# Apply One Sample T-Test To Check `Population Mean = Sample Mean` We Know sample_data Mean is 3 So We Are Checking Through Test\n",
    "\n",
    "# Perform One Sample T-Test\n",
    "statistic, p_value=stats.ttest_1samp(sample_data, suppose_population_mean)\n",
    "\n",
    "print(f'statistic : {statistic}')\n",
    "print()\n",
    "print(f'P_Value : {p_value}')\n",
    "print()\n",
    "\n",
    "# You Can print the result using if else condition\n",
    "if p_value > 0.05:\n",
    "    print(f' p-value: {p_value}, Sample Mean = Population Mean (Fail To Reject H0)')\n",
    "else:\n",
    "    print(f' p-value: {p_value}, Sample Mean != Population Mean  (Reject H0)')\n"
   ]
  },
  {
   "cell_type": "markdown",
   "metadata": {},
   "source": [
    "# So P_Value is Greater Then `0.05` We Fail To Reject H0 Means There Is No Difference Between Population Mean And Sample Mean"
   ]
  },
  {
   "cell_type": "markdown",
   "metadata": {},
   "source": [
    "---"
   ]
  },
  {
   "cell_type": "markdown",
   "metadata": {},
   "source": [
    "# 2. Two Sample T-Test (Independent)"
   ]
  },
  {
   "cell_type": "markdown",
   "metadata": {},
   "source": [
    "### H0 : group1 mean is equal to group2 mean \n",
    "### H1 : group1 mean is not equal to group2 mean\n"
   ]
  },
  {
   "cell_type": "code",
   "execution_count": 8,
   "metadata": {},
   "outputs": [
    {
     "name": "stdout",
     "output_type": "stream",
     "text": [
      "statistic : 0.5\n",
      "\n",
      "P_Value : 0.6305360755569764\n",
      "\n",
      " p-value: 0.6305360755569764, group1 Mean = group2 Mean (Fail To Reject H0)\n"
     ]
    }
   ],
   "source": [
    "import scipy.stats as stats\n",
    "\n",
    "# Sample Data\n",
    "group1= [2, 4, 6, 8, 10]\n",
    "group2= [1, 3, 5, 7, 9]\n",
    "\n",
    "# Perform Independent Two-Sample T-Test\n",
    "state, p_value=stats.ttest_ind(group1, group2)\n",
    "\n",
    "print(f'statistic : {state}')\n",
    "print()\n",
    "print(f'P_Value : {p_value}')\n",
    "print()\n",
    "\n",
    "# You Can print the result using if else condition\n",
    "if p_value > 0.05:\n",
    "    print(f' p-value: {p_value}, group1 Mean = group2 Mean (Fail To Reject H0)')\n",
    "else:\n",
    "    print(f' p-value: {p_value}, group1 Mean != group2 Mean  (Reject H0)')\n"
   ]
  },
  {
   "cell_type": "markdown",
   "metadata": {},
   "source": [
    "---"
   ]
  },
  {
   "cell_type": "markdown",
   "metadata": {},
   "source": [
    "# 3. Paired Sample T-Test"
   ]
  },
  {
   "cell_type": "markdown",
   "metadata": {},
   "source": [
    "### H0 : Before Mean Is Equal To After Mean\n",
    "### H1 : Before Mean Is Not Equal To After Mean"
   ]
  },
  {
   "cell_type": "code",
   "execution_count": 9,
   "metadata": {},
   "outputs": [
    {
     "name": "stdout",
     "output_type": "stream",
     "text": [
      "statistic : 0.0\n",
      "\n",
      "P_Value : 1.0\n",
      "\n",
      " p-value: 1.0, before Mean = after Mean (Fail To Reject H0)\n"
     ]
    }
   ],
   "source": [
    "import scipy.stats as stats\n",
    "\n",
    "# Sample Data\n",
    "before= [2, 3, 4, 5, 6]\n",
    "after= [3, 4, 5, 6, 2]\n",
    "\n",
    "# Perform paired sample t-test\n",
    "stat, p_value= stats.ttest_rel(before, after)\n",
    "\n",
    "print(f'statistic : {stat}')\n",
    "print()\n",
    "print(f'P_Value : {p_value}')\n",
    "print()\n",
    "\n",
    "# You Can print the result using if else condition\n",
    "if p_value > 0.05:\n",
    "    print(f' p-value: {p_value}, before Mean = after Mean (Fail To Reject H0)')\n",
    "else:\n",
    "    print(f' p-value: {p_value}, before Mean != after Mean (Reject H0)')\n"
   ]
  },
  {
   "cell_type": "markdown",
   "metadata": {},
   "source": [
    "# We Apply T-Test If Sample Size <30 Other Wise We Apply Z-Test"
   ]
  }
 ],
 "metadata": {
  "kernelspec": {
   "display_name": "Python 3",
   "language": "python",
   "name": "python3"
  },
  "language_info": {
   "codemirror_mode": {
    "name": "ipython",
    "version": 3
   },
   "file_extension": ".py",
   "mimetype": "text/x-python",
   "name": "python",
   "nbconvert_exporter": "python",
   "pygments_lexer": "ipython3",
   "version": "3.12.1"
  }
 },
 "nbformat": 4,
 "nbformat_minor": 2
}
